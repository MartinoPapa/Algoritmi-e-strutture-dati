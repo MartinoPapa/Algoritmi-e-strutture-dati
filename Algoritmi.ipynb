{
 "cells": [
  {
   "cell_type": "markdown",
   "metadata": {},
   "source": [
    "# Algoritmi e strutture dati\n",
    "https://cricca.disi.unitn.it/montresor/teaching/asd/\n",
    "\n",
    "### Esame\n",
    "* 50% - Scritto\n",
    "    * Esame scritto (uno per modulo)\n",
    "    * Progetto (uno per modulo)\n",
    "* 50% - Orale"
   ]
  },
  {
   "cell_type": "code",
   "execution_count": 5,
   "metadata": {},
   "outputs": [],
   "source": [
    "import numpy as np"
   ]
  },
  {
   "cell_type": "markdown",
   "metadata": {},
   "source": [
    "## Lezione 1\n",
    "\n",
    "Problema 1: dato un vettore a valori in Z trovare il sottovettore contiguo con somma massimale"
   ]
  },
  {
   "cell_type": "code",
   "execution_count": 6,
   "metadata": {},
   "outputs": [],
   "source": [
    "def ContiguaMassima(vec):\n",
    "    sumP= 0\n",
    "    sumM=0\n",
    "    for i in range(0,len(vec)):\n",
    "        sumP += vec[i]\n",
    "        if(sumP>sumM): \n",
    "            sumM=sumP\n",
    "        else:\n",
    "            if(sumP<0): sumP = 0\n",
    "    return sumM"
   ]
  },
  {
   "cell_type": "markdown",
   "metadata": {},
   "source": [
    "## Lezione 2\n",
    "\n",
    "### Ricerca dicotomica\n",
    "sia $ S=\\{s_1,\\dots,s_n\\} $ un insieme ordinato. Dato un elemento $ E $ verificare se appartiene ad $ S $.\n",
    "\n",
    "Analisi del costo a pagina 4 appunti."
   ]
  },
  {
   "cell_type": "code",
   "execution_count": 1,
   "metadata": {},
   "outputs": [],
   "source": [
    "def RicercaDicotomica(vec, e, i, j): # costo | #(i>j) | #(i<=j) \n",
    "    if(i>j): # c1 | 1 | 1\n",
    "        return 0 #c2 | 1 | 0\n",
    "    else:\n",
    "        m=int((i+j)/2) # c3 | 0 | 1\n",
    "        if(vec[m]==e): # c4 | 0 | 1\n",
    "            return m # c5 | 0 | 0 (se prendiamo il caso peggiore supponiamo di non trovare mai l'elemento che cerchiamo)\n",
    "        else:\n",
    "            if(vec[m]<e): # c6 | 0 | 1\n",
    "                return RicercaDicotomica(vec, e, m+1, j) # c7 + T(roundDown( n/2 )) | 0 | 0/1\n",
    "            else:\n",
    "                return RicercaDicotomica(vec, e, i, m-1) # c7 +  T(roundDown( (n-1)/2 )) | 0 | 1/0"
   ]
  },
  {
   "cell_type": "code",
   "execution_count": 2,
   "metadata": {},
   "outputs": [
    {
     "data": {
      "text/plain": [
       "3"
      ]
     },
     "execution_count": 2,
     "metadata": {},
     "output_type": "execute_result"
    }
   ],
   "source": [
    "vec = [2, 3, 6, 8, 10]\n",
    "RicercaDicotomica(vec, 8, 0, len(vec))"
   ]
  },
  {
   "cell_type": "markdown",
   "metadata": {},
   "source": [
    "## Lezione 3 (Laboratorio)\n",
    "\n",
    "Per i laboratori useremo c++ per tre principali ragioni:\n",
    "* è fortemente tipizzato\n",
    "* è un linguaggio compilato\n",
    "* libreria STL\n",
    "\n",
    "Gli esercizi prenderanno i dati in input da file di testo (libreria fstream)\n",
    "\n",
    "Altre librerie utili sono:\n",
    "* utility (pair)\n",
    "* algorithm (sort, struct ...)\n",
    "* queue\n",
    "* stack"
   ]
  }
 ],
 "metadata": {
  "kernelspec": {
   "display_name": "Python 3.10.4 64-bit",
   "language": "python",
   "name": "python3"
  },
  "language_info": {
   "codemirror_mode": {
    "name": "ipython",
    "version": 3
   },
   "file_extension": ".py",
   "mimetype": "text/x-python",
   "name": "python",
   "nbconvert_exporter": "python",
   "pygments_lexer": "ipython3",
   "version": "3.10.4"
  },
  "orig_nbformat": 4,
  "vscode": {
   "interpreter": {
    "hash": "e7ccb2a435b656723dafd2fb88eb02b6891256ab8b77d2cf3044cea9811453d0"
   }
  }
 },
 "nbformat": 4,
 "nbformat_minor": 2
}
