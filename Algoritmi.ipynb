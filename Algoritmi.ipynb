{
 "cells": [
  {
   "cell_type": "markdown",
   "metadata": {},
   "source": [
    "# Algoritmi e strutture dati\n",
    "https://cricca.disi.unitn.it/montresor/teaching/asd/\n",
    "\n",
    "### Esame\n",
    "* 50% - Scritto\n",
    "    * Esame scritto (uno per modulo)\n",
    "    * Progetto (uno per modulo)\n",
    "* 50% - Orale"
   ]
  },
  {
   "cell_type": "code",
   "execution_count": 5,
   "metadata": {},
   "outputs": [],
   "source": [
    "import numpy as np"
   ]
  },
  {
   "cell_type": "markdown",
   "metadata": {},
   "source": [
    "## Lezione 1\n",
    "\n",
    "Problema 1: dato un vettore a valori in Z trovare il sottovettore contiguo con somma massimale"
   ]
  },
  {
   "cell_type": "code",
   "execution_count": 6,
   "metadata": {},
   "outputs": [],
   "source": [
    "def ContiguaMassima(vec):\n",
    "    sumP= 0\n",
    "    sumM=0\n",
    "    for i in range(0,len(vec)):\n",
    "        sumP += vec[i]\n",
    "        if(sumP>sumM): \n",
    "            sumM=sumP\n",
    "        else:\n",
    "            if(sumP<0): sumP = 0\n",
    "    return sumM"
   ]
  },
  {
   "cell_type": "markdown",
   "metadata": {},
   "source": [
    "## Lezione 2\n",
    "\n",
    "### Ricerca dicotomica\n",
    "sia $ S=\\{s_1,\\dots,s_n\\} $ un insieme ordinato. Dato un elemento $ E $ verificare se appartiene ad $ S $.\n",
    "\n",
    "Analisi del costo a pagina 4 appunti."
   ]
  },
  {
   "cell_type": "code",
   "execution_count": 1,
   "metadata": {},
   "outputs": [],
   "source": [
    "def RicercaDicotomica(vec, e, i, j): # costo | #(i>j) | #(i<=j) \n",
    "    if(i>j): # c1 | 1 | 1\n",
    "        return 0 #c2 | 1 | 0\n",
    "    else:\n",
    "        m=int((i+j)/2) # c3 | 0 | 1\n",
    "        if(vec[m]==e): # c4 | 0 | 1\n",
    "            return m # c5 | 0 | 0 (se prendiamo il caso peggiore supponiamo di non trovare mai l'elemento che cerchiamo)\n",
    "        else:\n",
    "            if(vec[m]<e): # c6 | 0 | 1\n",
    "                return RicercaDicotomica(vec, e, m+1, j) # c7 + T(roundDown( n/2 )) | 0 | 0/1\n",
    "            else:\n",
    "                return RicercaDicotomica(vec, e, i, m-1) # c7 +  T(roundDown( (n-1)/2 )) | 0 | 1/0"
   ]
  },
  {
   "cell_type": "code",
   "execution_count": 2,
   "metadata": {},
   "outputs": [
    {
     "data": {
      "text/plain": [
       "3"
      ]
     },
     "execution_count": 2,
     "metadata": {},
     "output_type": "execute_result"
    }
   ],
   "source": [
    "vec = [2, 3, 6, 8, 10]\n",
    "RicercaDicotomica(vec, 8, 0, len(vec))"
   ]
  },
  {
   "cell_type": "markdown",
   "metadata": {},
   "source": [
    "## Lezione 3 (Laboratorio)\n",
    "\n",
    "Per i laboratori useremo c++ per tre principali ragioni:\n",
    "* è fortemente tipizzato\n",
    "* è un linguaggio compilato\n",
    "* libreria STL\n",
    "\n",
    "Gli esercizi prenderanno i dati in input da file di testo (libreria fstream)\n",
    "\n",
    "Altre librerie utili sono:\n",
    "* utility (pair)\n",
    "* algorithm (sort, struct ...)\n",
    "* queue\n",
    "* stack"
   ]
  },
  {
   "cell_type": "markdown",
   "metadata": {},
   "source": [
    "## Lezione 4\n",
    "\n",
    "### Analisi di algoritmi, funzioni di costo, notazione asintotica\n",
    "\n",
    "#### Notazione O\n",
    "\n",
    "sia $ g(n) $ funzione di costo, indichiamo con $ O(g(n)) $ l’insieme\n",
    "delle funzioni $ f(n) $ t.c.: $$ \\exists c > 0,m \\geq 0 \\;t.c.\\; f(n)\\leq c g(n),\\; \\forall n \\geq m $$\n",
    "* $ g(n) $ è un limite asintotico superiore per $ f(n) $\n",
    "* scriviamo $ f(n)=O(g(n)) $  \n",
    "\n",
    "#### Notazione $ \\Omega $\n",
    "\n",
    "Sia $ g(n) $ una funzione di costo; indichiamo con $ \\Omega (g(n)) $ l’insieme delle funzioni $ f(n) $ tali per cui:\n",
    "$$ \\exists c > 0,m \\geq 0 \\;t.c.\\; f(n)\\geq c g(n),\\; \\forall n \\geq m $$\n",
    "* $ g(n) $ è un limite asintotico inferiore per $ f(n) $\n",
    "* scriviamo $ f(n)=\\Omega(g(n)) $  \n",
    "\n",
    "#### Notazione $ \\Theta $\n",
    "Sia $ g(n) $ una funzione di costo; indichiamo con $ \\Theta (g(n)) $ l’insieme delle funzioni $ f(n) $ tali per cui:\n",
    "$$ \\exists c_1,c_2 > 0,m \\geq 0 \\;t.c.\\; c_1 g(n) \\leq f(n)\\leq c_2 g(n),\\; \\forall n \\geq m $$\n",
    "* $ g(n) $ cresce esattamente come $ f(n) $\n",
    "* scriviamo $ f(n)=\\Theta(g(n)) $  "
   ]
  },
  {
   "cell_type": "markdown",
   "metadata": {},
   "source": [
    "## Lezione 5\n",
    "\n",
    "#### Notazioni o, $ \\omega $\n",
    "Sia $ g(n) $ una funzione di costo; indichiamo con $ o(g(n)) $ l’insieme delle funzioni $ f(n) $ tali per cui\n",
    "$$ \\forall c > 0,\\exist m \\geq 0 \\;t.c.\\; f(n)< c g(n),\\; \\forall n \\geq m $$\n",
    "Sia g(n) una funzione di costo; indichiamo con ω(g(n)) l’insieme\n",
    "delle funzioni f(n) tali per cui:\n",
    "$$ \\forall c > 0,\\exist m \\geq 0 \\;t.c.\\; f(n)> c g(n),\\; \\forall n \\geq m $$\n",
    "\n",
    "#### Problema\n",
    "Un bambino scende una scala composta da n scalini. Ad ogni passo,\n",
    "può decidere di fare $1,\\dots,q$ scalini alla volta. Determinare in quanti\n",
    "modi diversi può scendere le scale."
   ]
  },
  {
   "cell_type": "code",
   "execution_count": 31,
   "metadata": {},
   "outputs": [
    {
     "name": "stdout",
     "output_type": "stream",
     "text": [
      "56\n"
     ]
    }
   ],
   "source": [
    "def scale(n, p): #p: numero max di scalini che puoi fare in una volta\n",
    "    if(n>0):\n",
    "        s=0\n",
    "        for i in range(1,p+1):\n",
    "            s+=scale(n-i,p)\n",
    "        return s\n",
    "    else:\n",
    "        if(n==0): \n",
    "            return 1\n",
    "        else: \n",
    "            return 0\n",
    "\n",
    "print(scale(7,4))"
   ]
  },
  {
   "cell_type": "markdown",
   "metadata": {},
   "source": [
    "### Esercizio\n",
    "Riordinare le seguenti funzioni in ordine di complessità\n",
    "\n",
    "![alt text](img/Esercizio.PNG)\n",
    "\n",
    "Usando l'abuso di notazione $ f_a = f_b \\Leftrightarrow O(f_a)=O(f_b) $ scriviamo\n",
    "$$ f_3 < f_7<  f_2 < f_6=f_4< f_8 < f_5=f_9=f_1 $$"
   ]
  },
  {
   "cell_type": "markdown",
   "metadata": {},
   "source": [
    "## Lezione 6\n",
    "\n",
    "### Dimostrazione complessità algoritmi ricorsivi\n",
    "\n",
    "#### Analisi per livelli\n",
    "il metodo dell'analisi per livelli consiste nel:\n",
    "* formare una tabella (Livello, Dimensione, Costo chiamata, Numero chiamate, Costo livello);\n",
    "* scrivere la funzione $ T(n) $ come somma dei costi di tutti i livelli;\n",
    "* semplificare la sommatoria e deddurre la complessità.\n",
    "\n",
    "#### Induzione\n",
    "sia un algoritmo con funzione di costo\n",
    "$$ T(n)=\\begin{cases}\n",
    "    aT(\\frac{n}{b})+cn^\\beta & n>1 \\\\\n",
    "    d & n \\leq 1\n",
    "\\end{cases}\n",
    "$$\n",
    "Se vogliamo dimostrare $ T(n)=O(f(n)) $ oppure $ T(n)=\\Omega(f(n))$ (nel secondo caso dovremmo invertire il verso le disuguaglianze) possiamo sfruttare l'induzione:\n",
    "* ipotesi induttiva: $ \\exist c > 0, b>0,\\; \\forall k<n \\;t.c.\\; T(k) \\leq cf(n) - bg(n) $, con $ O(g(n)) \\subsetneqq O(f(n)) $ \n",
    "* passo induttivo: dimostrare la validità per $ T(n) $ sfruttando il passo induttivo\n",
    "$$ T(n)=aT(\\frac{n}{b})+cn^\\beta \\leq a\\left[ cf\\left(\\frac{n}{b}\\right) - bg\\left(\\frac{n}{b}\\right) \\right] + cn^\\beta$$\n",
    "\n",
    "#### Teorema\n",
    "Siano a e b costanti intere tali che $ a \\geq 1 $ e $ b \\geq 2 $, e $ c, \\beta $ costanti reali\n",
    "tali che $ c > 0 $ e $ \\beta \\geq 0 $. Sia $ T(n) $ data dalla relazione di ricorrenza:\n",
    "$$ T(n)=\\begin{cases}\n",
    "    aT(\\frac{n}{b})+cn^\\beta & n>1 \\\\\n",
    "    d & n \\leq 1\n",
    "\\end{cases}\n",
    "$$\n",
    "Posto $ \\alpha = \\frac{\\log a}{\\log b} = \\log_b a $, allora:\n",
    "$$\n",
    "T(n)=\\begin{cases}\n",
    "    \\Theta(n^\\alpha) & \\alpha > \\beta \\\\\n",
    "    \\Theta(n^\\alpha \\log n) & \\alpha = \\beta \\\\\n",
    "    \\Theta(n^\\beta) & \\alpha < \\beta \n",
    "\\end{cases}\n",
    "$$\n",
    "\n",
    "\n",
    "Dimostrazione a pagina 103 dispense lezione 6."
   ]
  },
  {
   "cell_type": "markdown",
   "metadata": {},
   "source": [
    "## Lezione 7\n",
    "\n",
    "### Albero\n",
    "\n",
    "Un albero è dato da un insieme vuoto o un nodo radice e zero o più sottoalberi, ognuno dei quali è un albero; la radice è connessa alla radice di ogni sottoalbero con un arco orientato.\n",
    "\n",
    "### Foglie\n",
    "Nodi che non sono radice di alcun sottoalbero\n",
    "\n",
    "### Profondità\n",
    "La lunghezza del cammino semplice dalla radice al nodo (misurato in numero di archi)\n",
    "\n",
    "### Altezza\n",
    "La profondità massima della sue foglie\n",
    "\n",
    "### Livello\n",
    "L’insieme di nodi alla stessa profondità\n",
    "\n",
    "### Albero binario\n",
    "Un albero binario è un albero radicato in cui ogni nodo ha al massimo due figli, identificati come figlio sinistro e figlio destro\n",
    "\n",
    "### Successore\n",
    "Il successore di un nodo u è il più piccolo nodo maggiore di u"
   ]
  },
  {
   "cell_type": "markdown",
   "metadata": {},
   "source": [
    "## Lezione 8\n",
    "\n",
    "### Alberi Red-Black\n",
    "\n",
    "* Ogni nodo è colorato di rosso o di nero\n",
    "* Le foglie sono nodi speciali NULL nere\n",
    "* Valgono le seguenti regole:\n",
    "    * La radice è nera\n",
    "    * Tutte le foglie sono nere\n",
    "    * Entrambi i figli di un nodo rosso sono neri\n",
    "    * Ogni cammino semplice da un nodo $ u $ ad una delle foglie contenute nel suo sottoalbero ha lo stesso numero di nodi neri\n",
    "\n",
    "\n"
   ]
  }
 ],
 "metadata": {
  "kernelspec": {
   "display_name": "Python 3.10.4 64-bit",
   "language": "python",
   "name": "python3"
  },
  "language_info": {
   "codemirror_mode": {
    "name": "ipython",
    "version": 3
   },
   "file_extension": ".py",
   "mimetype": "text/x-python",
   "name": "python",
   "nbconvert_exporter": "python",
   "pygments_lexer": "ipython3",
   "version": "3.10.4"
  },
  "orig_nbformat": 4,
  "vscode": {
   "interpreter": {
    "hash": "e7ccb2a435b656723dafd2fb88eb02b6891256ab8b77d2cf3044cea9811453d0"
   }
  }
 },
 "nbformat": 4,
 "nbformat_minor": 2
}
