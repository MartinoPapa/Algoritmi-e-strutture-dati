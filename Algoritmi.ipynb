{
 "cells": [
  {
   "cell_type": "markdown",
   "metadata": {},
   "source": [
    "# Algoritmi e strutture dati\n",
    "https://cricca.disi.unitn.it/montresor/teaching/asd/"
   ]
  },
  {
   "cell_type": "code",
   "execution_count": 5,
   "metadata": {},
   "outputs": [],
   "source": [
    "import numpy as np\n"
   ]
  },
  {
   "cell_type": "markdown",
   "metadata": {},
   "source": [
    "## Lezione 1\n",
    "\n",
    "Problema 1: dato un vettore a valori in Z trovare il sottovettore contiguo con somma massimale"
   ]
  },
  {
   "cell_type": "code",
   "execution_count": 6,
   "metadata": {},
   "outputs": [],
   "source": [
    "def ContiguaMassima(vec):\n",
    "    sumP= 0\n",
    "    sumM=0\n",
    "    for i in range(0,len(vec)):\n",
    "        sumP += vec[i]\n",
    "        if(sumP>sumM): \n",
    "            sumM=sumP\n",
    "        else:\n",
    "            if(sumP<0): sumP = 0\n",
    "    return sumM"
   ]
  },
  {
   "cell_type": "code",
   "execution_count": 7,
   "metadata": {},
   "outputs": [
    {
     "name": "stdout",
     "output_type": "stream",
     "text": [
      "7\n"
     ]
    }
   ],
   "source": [
    "vec = [-1, 2, 4, -4, 5]\n",
    "print(ContiguaMassima(vec))"
   ]
  }
 ],
 "metadata": {
  "kernelspec": {
   "display_name": "Python 3.10.4 64-bit",
   "language": "python",
   "name": "python3"
  },
  "language_info": {
   "codemirror_mode": {
    "name": "ipython",
    "version": 3
   },
   "file_extension": ".py",
   "mimetype": "text/x-python",
   "name": "python",
   "nbconvert_exporter": "python",
   "pygments_lexer": "ipython3",
   "version": "3.10.4"
  },
  "orig_nbformat": 4,
  "vscode": {
   "interpreter": {
    "hash": "e7ccb2a435b656723dafd2fb88eb02b6891256ab8b77d2cf3044cea9811453d0"
   }
  }
 },
 "nbformat": 4,
 "nbformat_minor": 2
}
